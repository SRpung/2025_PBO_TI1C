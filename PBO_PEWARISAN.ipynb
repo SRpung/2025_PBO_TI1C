{
  "nbformat": 4,
  "nbformat_minor": 0,
  "metadata": {
    "colab": {
      "provenance": [],
      "authorship_tag": "ABX9TyP4DZSfcRcW9PYsyhzKCwB9",
      "include_colab_link": true
    },
    "kernelspec": {
      "name": "python3",
      "display_name": "Python 3"
    },
    "language_info": {
      "name": "python"
    }
  },
  "cells": [
    {
      "cell_type": "markdown",
      "metadata": {
        "id": "view-in-github",
        "colab_type": "text"
      },
      "source": [
        "<a href=\"https://colab.research.google.com/github/SRpung/2025_PBO_TI1C/blob/main/PBO_PEWARISAN.ipynb\" target=\"_parent\"><img src=\"https://colab.research.google.com/assets/colab-badge.svg\" alt=\"Open In Colab\"/></a>"
      ]
    },
    {
      "cell_type": "code",
      "execution_count": 21,
      "metadata": {
        "colab": {
          "base_uri": "https://localhost:8080/"
        },
        "id": "dbiyuMTuZF6t",
        "outputId": "544e1eb7-9be4-484c-8631-9d6869e5f802"
      },
      "outputs": [
        {
          "output_type": "stream",
          "name": "stdout",
          "text": [
            "ini adalah mobilTesla Model Sberwarna Merah.\n",
            "mesin dijalankanTesla Model S dinyalakan\n",
            "Merk mobil: Tesla Model S\n"
          ]
        }
      ],
      "source": [
        "class kendaraan:\n",
        "  def _init_(self, merk):\n",
        "    self.merk = merk\n",
        "  def mulai_mesin(self):\n",
        "      print(f\"mesin dijalankan{self.merk} dinyalakan\")\n",
        "\n",
        "class mobil(kendaraan):\n",
        "  def __init__(self, merk, warna):\n",
        "    self.merk = merk\n",
        "    self.warna = warna\n",
        "\n",
        "  def info_mobil(self):\n",
        "      print (f\"ini adalah mobil{self.merk}berwarna {self.warna}.\")\n",
        "\n",
        "\n",
        "if __name__== \"__main__\":\n",
        "  mobil= mobil(\"Tesla Model S\", \"Merah\")\n",
        "  mobil_tesla.info_mobil()\n",
        "  mobil_tesla.mulai_mesin()\n",
        "  print(f\"Merk mobil: {mobil_tesla.merk}\")"
      ]
    },
    {
      "cell_type": "code",
      "source": [
        "class person:\n",
        "  def __init__(self, nama, usia):\n",
        "      print(f\"(memanggil _init___ person untuk '{nama}')\")\n",
        "      self.nama = nama\n",
        "      self.usia = usia\n",
        "  def perkenalkan_diri(self):\n",
        "        print(f\"nama saya {self.nama} dan usia saya {self.usia} tahun.\")\n",
        "\n",
        "class student(person):\n",
        "  def __init__(self, nama, usia, student_id, jurusan):\n",
        "      print(f\"(memanggil _init___ student untuk '{nama}')\")\n",
        "      super().__init__(nama, usia)\n",
        "      self.student_id = student_id\n",
        "      self.jurusan = jurusan\n",
        "      print(f\"(inisialisai atribut student selesai untuk'{nama}')\")\n",
        "\n",
        "  def info_akademik(self):\n",
        "      print(f\"ID mahasiswa: {self.student_id}\")\n",
        "      print(f\"Jurusan: {self.jurusan}\")\n",
        "\n",
        "  def perkenalkan_diri(self):\n",
        "      super().perkenalkan_diri()\n",
        "      print(f\"Saya adalah mahasiswa dengan ID {self.student_id}.,Jurusan {self.jurusan}.\")\n",
        "\n",
        "if __name__==\"__main__\":\n",
        "    dosen = person(\"Pak Anton\",45)\n",
        "    print(\"-\"*20)\n",
        "    dosen.perkenalkan_diri()\n",
        "    print(\"\\n\" + \"=\" * 30 + \"\\n\")\n",
        "\n",
        "    mahasiswa = student(\"Dewi\", 20, \"MHS001\", \"Teknik Komputer\")\n",
        "    print(\"-\"*20)\n",
        "    mahasiswa.perkenalkan_diri()\n",
        "    print(\"-\"*20)\n",
        "    mahasiswa.info_akademik()\n",
        "    print(f\"\\nUsia mahasiswa {mahasiswa.nama}: {mahasiswa.usia}\")"
      ],
      "metadata": {
        "colab": {
          "base_uri": "https://localhost:8080/"
        },
        "id": "Loa9bry2kwSY",
        "outputId": "260861a3-74c8-4c9b-da13-9e3868c3def4"
      },
      "execution_count": 22,
      "outputs": [
        {
          "output_type": "stream",
          "name": "stdout",
          "text": [
            "(memanggil _init___ person untuk 'Pak Anton')\n",
            "--------------------\n",
            "nama saya Pak Anton dan usia saya 45 tahun.\n",
            "\n",
            "==============================\n",
            "\n",
            "(memanggil _init___ student untuk 'Dewi')\n",
            "(memanggil _init___ person untuk 'Dewi')\n",
            "(inisialisai atribut student selesai untuk'Dewi')\n",
            "--------------------\n",
            "nama saya Dewi dan usia saya 20 tahun.\n",
            "Saya adalah mahasiswa dengan ID MHS001.,Jurusan Teknik Komputer.\n",
            "--------------------\n",
            "ID mahasiswa: MHS001\n",
            "Jurusan: Teknik Komputer\n",
            "\n",
            "Usia mahasiswa Dewi: 20\n"
          ]
        }
      ]
    },
    {
      "cell_type": "code",
      "source": [
        "class hewan:\n",
        "    def __init__(self, nama):\n",
        "        self.nama = nama\n",
        "\n",
        "    def bersuara (self):\n",
        "        print(f\"{self.nama} menegeluarkan suara generik.\")\n",
        "\n",
        "    def tampilkan_info (self):\n",
        "        print(f\"ini adalah hewan bernama {self.nama}.\")\n",
        "\n",
        "\n",
        "class kucing(hewan):\n",
        "    def __init__(self, nama, ras):\n",
        "        super().__init__(nama)\n",
        "        self.ras = ras\n",
        "\n",
        "    def bersuara(self):\n",
        "        print(f\"{self.nama} (kucing) mengeong: meow!\")\n",
        "\n",
        "    def tampilkan_info(self):\n",
        "        super().tampilkan_info()\n",
        "        print(f\"ini adalah kucing ras {self.ras}.\")\n",
        "\n",
        "\n",
        "if __name__==\"__main__\":\n",
        "    hewan_umum = hewan(\"makhluk\")\n",
        "    kucing_persia = kucing(\"puspus\", \"persia\")\n",
        "    print(\"info hewan umum:\")\n",
        "    hewan_umum.tampilkan_info()\n",
        "    hewan_umum.bersuara()\n",
        "    print(\"-\"*20)\n",
        "\n",
        "    print(\"info kucing persia:\")\n",
        "    kucing_persia.bersuara()\n",
        "    kucing_persia.tampilkan_info()"
      ],
      "metadata": {
        "colab": {
          "base_uri": "https://localhost:8080/"
        },
        "id": "z0Gzw4_uvPPY",
        "outputId": "8853f63d-4a0c-47c4-b249-b5cc31e6a6fa"
      },
      "execution_count": 24,
      "outputs": [
        {
          "output_type": "stream",
          "name": "stdout",
          "text": [
            "info hewan umum:\n",
            "ini adalah hewan bernama makhluk.\n",
            "makhluk menegeluarkan suara generik.\n",
            "--------------------\n",
            "info kucing persia:\n",
            "puspus (kucing) mengeong: meow!\n",
            "ini adalah hewan bernama puspus.\n",
            "ini adalah kucing ras persia.\n"
          ]
        }
      ]
    },
    {
      "cell_type": "code",
      "source": [
        "class organisme:\n",
        "    def __init__(self, nama):\n",
        "        self.nama = nama\n",
        "        print(f\"organisme '{self.nama}' diciptakan.\")\n",
        "\n",
        "    def bernapas(self):\n",
        "        print(f\"{self.nama} sedang bernapas.\")\n",
        "\n",
        "\n",
        "class hewan(organisme):\n",
        "    def __init__(self, nama, jenis_makanan):\n",
        "        super().__init__(nama)\n",
        "        self.jenis_makanan = jenis_makanan\n",
        "        print(f\"hewan '{self.nama}' adalah {self.jenis_makanan}.\")\n",
        "\n",
        "    def bergerak(self):\n",
        "      print(f\"{self.nama} sedang bergerak.\")\n",
        "\n",
        "class mamalia(hewan):\n",
        "    def __init__(self, nama, jenis_makanan, jumlah_kaki):\n",
        "        super().__init__(nama, jenis_makanan)\n",
        "        self.jumlah_kaki = jumlah_kaki\n",
        "        print(f\"mamalia '{self.nama}' memiliki {self.jumlah_kaki}kaki.\")\n",
        "\n",
        "    def menyusui(self):\n",
        "      print(f\"{self.nama} sedang menyusui.\")\n",
        "\n",
        "\n",
        "\n",
        "if __name__== \"__main__\":\n",
        "    kucing = mamalia(\"puspus\", \"karnivora\", 4)\n",
        "    print(\"-\"*20)\n",
        "    kucing.bernapas()\n",
        "    kucing.bergerak()\n",
        "    kucing.menyusui()\n",
        "    print(f\"jenis makanan: {kucing.jenis_makanan}\")\n",
        "    print(f\"nama oraganisme: {kucing.nama}\")"
      ],
      "metadata": {
        "colab": {
          "base_uri": "https://localhost:8080/"
        },
        "id": "DkzIyi650EKY",
        "outputId": "79f3b608-1555-4c41-e863-9b02934a486d"
      },
      "execution_count": 40,
      "outputs": [
        {
          "output_type": "stream",
          "name": "stdout",
          "text": [
            "organisme 'puspus' diciptakan.\n",
            "hewan 'puspus' adalah karnivora.\n",
            "mamalia 'puspus' memiliki 4kaki.\n",
            "--------------------\n",
            "puspus sedang bernapas.\n",
            "puspus sedang bergerak.\n",
            "puspus sedang menyusui.\n",
            "jenis makanan: karnivora\n",
            "nama oraganisme: puspus\n"
          ]
        }
      ]
    },
    {
      "cell_type": "code",
      "source": [],
      "metadata": {
        "id": "umnwRfl14kuZ"
      },
      "execution_count": 26,
      "outputs": []
    }
  ]
}