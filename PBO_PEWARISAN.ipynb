{
  "nbformat": 4,
  "nbformat_minor": 0,
  "metadata": {
    "colab": {
      "provenance": [],
      "authorship_tag": "ABX9TyP3WPtEa3M1MI9klMwSxcm8",
      "include_colab_link": true
    },
    "kernelspec": {
      "name": "python3",
      "display_name": "Python 3"
    },
    "language_info": {
      "name": "python"
    }
  },
  "cells": [
    {
      "cell_type": "markdown",
      "metadata": {
        "id": "view-in-github",
        "colab_type": "text"
      },
      "source": [
        "<a href=\"https://colab.research.google.com/github/SRpung/2025_PBO_TI1C/blob/main/PBO_PEWARISAN.ipynb\" target=\"_parent\"><img src=\"https://colab.research.google.com/assets/colab-badge.svg\" alt=\"Open In Colab\"/></a>"
      ]
    },
    {
      "cell_type": "code",
      "execution_count": null,
      "metadata": {
        "colab": {
          "base_uri": "https://localhost:8080/"
        },
        "id": "dbiyuMTuZF6t",
        "outputId": "544e1eb7-9be4-484c-8631-9d6869e5f802"
      },
      "outputs": [
        {
          "output_type": "stream",
          "name": "stdout",
          "text": [
            "ini adalah mobilTesla Model Sberwarna Merah.\n",
            "mesin dijalankanTesla Model S dinyalakan\n",
            "Merk mobil: Tesla Model S\n"
          ]
        }
      ],
      "source": [
        "class kendaraan:\n",
        "  def _init_(self, merk):\n",
        "    self.merk = merk\n",
        "  def mulai_mesin(self):\n",
        "      print(f\"mesin dijalankan{self.merk} dinyalakan\")\n",
        "\n",
        "class mobil(kendaraan):\n",
        "  def __init__(self, merk, warna):\n",
        "    self.merk = merk\n",
        "    self.warna = warna\n",
        "\n",
        "  def info_mobil(self):\n",
        "      print (f\"ini adalah mobil{self.merk}berwarna {self.warna}.\")\n",
        "\n",
        "\n",
        "if __name__== \"__main__\":\n",
        "  mobil= mobil(\"Tesla Model S\", \"Merah\")\n",
        "  mobil_tesla.info_mobil()\n",
        "  mobil_tesla.mulai_mesin()\n",
        "  print(f\"Merk mobil: {mobil_tesla.merk}\")"
      ]
    },
    {
      "cell_type": "code",
      "source": [
        "class person:\n",
        "  def __init__(self, nama, usia):\n",
        "      print(f\"(memanggil _init___ person untuk '{nama}')\")\n",
        "      self.nama = nama\n",
        "      self.usia = usia\n",
        "  def perkenalkan_diri(self):\n",
        "        print(f\"nama saya {self.nama} dan usia saya {self.usia} tahun.\")\n",
        "\n",
        "class student(person):\n",
        "  def __init__(self, nama, usia, student_id, jurusan):\n",
        "      print(f\"(memanggil _init___ student untuk '{nama}')\")\n",
        "      super().__init__(nama, usia)\n",
        "      self.student_id = student_id\n",
        "      self.jurusan = jurusan\n",
        "      print(f\"(inisialisai atribut student selesai untuk'{nama}')\")\n",
        "\n",
        "  def info_akademik(self):\n",
        "      print(f\"ID mahasiswa: {self.student_id}\")\n",
        "      print(f\"Jurusan: {self.jurusan}\")\n",
        "\n",
        "  def perkenalkan_diri(self):\n",
        "      super().perkenalkan_diri()\n",
        "      print(f\"Saya adalah mahasiswa dengan ID {self.student_id}.,Jurusan {self.jurusan}.\")\n",
        "\n",
        "if __name__==\"__main__\":\n",
        "    dosen = person(\"Pak Anton\",45)\n",
        "    print(\"-\"*20)\n",
        "    dosen.perkenalkan_diri()\n",
        "    print(\"\\n\" + \"=\" * 30 + \"\\n\")\n",
        "\n",
        "    mahasiswa = student(\"Dewi\", 20, \"MHS001\", \"Teknik Komputer\")\n",
        "    print(\"-\"*20)\n",
        "    mahasiswa.perkenalkan_diri()\n",
        "    print(\"-\"*20)\n",
        "    mahasiswa.info_akademik()\n",
        "    print(f\"\\nUsia mahasiswa {mahasiswa.nama}: {mahasiswa.usia}\")"
      ],
      "metadata": {
        "colab": {
          "base_uri": "https://localhost:8080/"
        },
        "id": "Loa9bry2kwSY",
        "outputId": "260861a3-74c8-4c9b-da13-9e3868c3def4"
      },
      "execution_count": null,
      "outputs": [
        {
          "output_type": "stream",
          "name": "stdout",
          "text": [
            "(memanggil _init___ person untuk 'Pak Anton')\n",
            "--------------------\n",
            "nama saya Pak Anton dan usia saya 45 tahun.\n",
            "\n",
            "==============================\n",
            "\n",
            "(memanggil _init___ student untuk 'Dewi')\n",
            "(memanggil _init___ person untuk 'Dewi')\n",
            "(inisialisai atribut student selesai untuk'Dewi')\n",
            "--------------------\n",
            "nama saya Dewi dan usia saya 20 tahun.\n",
            "Saya adalah mahasiswa dengan ID MHS001.,Jurusan Teknik Komputer.\n",
            "--------------------\n",
            "ID mahasiswa: MHS001\n",
            "Jurusan: Teknik Komputer\n",
            "\n",
            "Usia mahasiswa Dewi: 20\n"
          ]
        }
      ]
    },
    {
      "cell_type": "code",
      "source": [
        "class hewan:\n",
        "    def __init__(self, nama):\n",
        "        self.nama = nama\n",
        "\n",
        "    def bersuara (self):\n",
        "        print(f\"{self.nama} menegeluarkan suara generik.\")\n",
        "\n",
        "    def tampilkan_info (self):\n",
        "        print(f\"ini adalah hewan bernama {self.nama}.\")\n",
        "\n",
        "\n",
        "class kucing(hewan):\n",
        "    def __init__(self, nama, ras):\n",
        "        super().__init__(nama)\n",
        "        self.ras = ras\n",
        "\n",
        "    def bersuara(self):\n",
        "        print(f\"{self.nama} (kucing) mengeong: meow!\")\n",
        "\n",
        "    def tampilkan_info(self):\n",
        "        super().tampilkan_info()\n",
        "        print(f\"ini adalah kucing ras {self.ras}.\")\n",
        "\n",
        "\n",
        "if __name__==\"__main__\":\n",
        "    hewan_umum = hewan(\"makhluk\")\n",
        "    kucing_persia = kucing(\"puspus\", \"persia\")\n",
        "    print(\"info hewan umum:\")\n",
        "    hewan_umum.tampilkan_info()\n",
        "    hewan_umum.bersuara()\n",
        "    print(\"-\"*20)\n",
        "\n",
        "    print(\"info kucing persia:\")\n",
        "    kucing_persia.bersuara()\n",
        "    kucing_persia.tampilkan_info()"
      ],
      "metadata": {
        "colab": {
          "base_uri": "https://localhost:8080/"
        },
        "id": "z0Gzw4_uvPPY",
        "outputId": "8853f63d-4a0c-47c4-b249-b5cc31e6a6fa"
      },
      "execution_count": null,
      "outputs": [
        {
          "output_type": "stream",
          "name": "stdout",
          "text": [
            "info hewan umum:\n",
            "ini adalah hewan bernama makhluk.\n",
            "makhluk menegeluarkan suara generik.\n",
            "--------------------\n",
            "info kucing persia:\n",
            "puspus (kucing) mengeong: meow!\n",
            "ini adalah hewan bernama puspus.\n",
            "ini adalah kucing ras persia.\n"
          ]
        }
      ]
    },
    {
      "cell_type": "code",
      "source": [
        "class organisme:\n",
        "    def __init__(self, nama):\n",
        "        self.nama = nama\n",
        "        print(f\"organisme '{self.nama}' diciptakan.\")\n",
        "\n",
        "    def bernapas(self):\n",
        "        print(f\"{self.nama} sedang bernapas.\")\n",
        "\n",
        "\n",
        "class hewan(organisme):\n",
        "    def __init__(self, nama, jenis_makanan):\n",
        "        super().__init__(nama)\n",
        "        self.jenis_makanan = jenis_makanan\n",
        "        print(f\"hewan '{self.nama}' adalah {self.jenis_makanan}.\")\n",
        "\n",
        "    def bergerak(self):\n",
        "      print(f\"{self.nama} sedang bergerak.\")\n",
        "\n",
        "class mamalia(hewan):\n",
        "    def __init__(self, nama, jenis_makanan, jumlah_kaki):\n",
        "        super().__init__(nama, jenis_makanan)\n",
        "        self.jumlah_kaki = jumlah_kaki\n",
        "        print(f\"mamalia '{self.nama}' memiliki {self.jumlah_kaki}kaki.\")\n",
        "\n",
        "    def menyusui(self):\n",
        "      print(f\"{self.nama} sedang menyusui.\")\n",
        "\n",
        "\n",
        "\n",
        "if __name__== \"__main__\":\n",
        "    kucing = mamalia(\"puspus\", \"karnivora\", 4)\n",
        "    print(\"-\"*20)\n",
        "    kucing.bernapas()\n",
        "    kucing.bergerak()\n",
        "    kucing.menyusui()\n",
        "    print(f\"jenis makanan: {kucing.jenis_makanan}\")\n",
        "    print(f\"nama oraganisme: {kucing.nama}\")"
      ],
      "metadata": {
        "colab": {
          "base_uri": "https://localhost:8080/"
        },
        "id": "DkzIyi650EKY",
        "outputId": "79f3b608-1555-4c41-e863-9b02934a486d"
      },
      "execution_count": null,
      "outputs": [
        {
          "output_type": "stream",
          "name": "stdout",
          "text": [
            "organisme 'puspus' diciptakan.\n",
            "hewan 'puspus' adalah karnivora.\n",
            "mamalia 'puspus' memiliki 4kaki.\n",
            "--------------------\n",
            "puspus sedang bernapas.\n",
            "puspus sedang bergerak.\n",
            "puspus sedang menyusui.\n",
            "jenis makanan: karnivora\n",
            "nama oraganisme: puspus\n"
          ]
        }
      ]
    },
    {
      "cell_type": "code",
      "source": [
        "class organisme:\n",
        "    def __init__(self, nama):\n",
        "        self.nama = nama\n",
        "        print(f\"organisme '{self.nama}' diciptakan.\")\n",
        "\n",
        "    def bernapas(self):\n",
        "        print(f\"{self.nama} sedang bernapas.\")\n",
        "\n",
        "class hewan(organisme):\n",
        "  def __init__(self, nama, jenis_makanan):\n",
        "    super().__init__(nama)\n",
        "    self.jenis_makanan = jenis_makanan\n",
        "    print(f\"hewan '{self.nama}' adalah {self.jenis_makanan}.\")\n",
        "\n",
        "  def bergerak(self):\n",
        "    print(f\"{self.nama} sedang bergerak.\")\n",
        "\n",
        "class mamalia(hewan):\n",
        "  def __init__(self, nama, jenis_makanan, jumlah_kaki):\n",
        "    super().__init__(nama, jenis_makanan)\n",
        "    self.jumlah_kaki = jumlah_kaki\n",
        "    print(f\"mamalia '{self.nama}' memiliki {self.jumlah_kaki} kaki.\")\n",
        "\n",
        "  def menyusui(self):\n",
        "    print(f\"{self.nama} sedang menyusui.\")\n",
        "\n",
        "if __name__==\"__main__\":\n",
        "  kucing = mamalia(\"puspus\", \"karnivora\", 4)\n",
        "  print(\"-\"*20)\n",
        "  kucing.bernapas()\n",
        "  kucing.bergerak()\n",
        "  print(f\"jenis makanan: {kucing.jenis_makanan}\")\n",
        "  print(f\"nama organisme: {kucing.nama}\")\n",
        "  kucing.menyusui()"
      ],
      "metadata": {
        "id": "umnwRfl14kuZ",
        "outputId": "9934dc66-f9da-4daa-e4e1-3ba1a515de0d",
        "colab": {
          "base_uri": "https://localhost:8080/"
        }
      },
      "execution_count": 1,
      "outputs": [
        {
          "output_type": "stream",
          "name": "stdout",
          "text": [
            "organisme 'puspus' diciptakan.\n",
            "hewan 'puspus' adalah karnivora.\n",
            "mamalia 'puspus' memiliki 4 kaki.\n",
            "--------------------\n",
            "puspus sedang bernapas.\n",
            "puspus sedang bergerak.\n",
            "jenis makanan: karnivora\n",
            "nama organisme: puspus\n",
            "puspus sedang menyusui.\n"
          ]
        }
      ]
    },
    {
      "cell_type": "code",
      "source": [
        "!apt-get install -y locales\n",
        "!locale-gen id_ID.UTF-8\n",
        "!update-locale LANG=id_ID.UTF-8\n",
        "import locale\n",
        "\n",
        "try:\n",
        "  locale.setlocale(locale.LC_ALL, 'id_ID.UTF-8')\n",
        "except locale.Error:\n",
        "  print(\"Gagal mengatur locale ke 'id_ID.UTF-8'\")\n",
        "  try:\n",
        "    # If id_ID.UTF-8 is not available, try en_US.UTF-8\n",
        "    locale.setlocale(locale.LC_ALL, 'en_US.UTF-8')\n",
        "    print(\"Locale diatur ke 'en_US.UTF-8'\")\n",
        "  except locale.Error:\n",
        "    print(\"Gagal mengatur locale ke 'en_US.UTF-8', menggunakan locale default\")\n",
        "\n",
        "# ... (rest of the code remains the same)"
      ],
      "metadata": {
        "id": "6vMt650NfOUp",
        "outputId": "7ad56fa8-d2a0-4692-bba4-d837324e5cd7",
        "colab": {
          "base_uri": "https://localhost:8080/"
        }
      },
      "execution_count": 26,
      "outputs": [
        {
          "output_type": "stream",
          "name": "stdout",
          "text": [
            "Reading package lists... Done\n",
            "Building dependency tree... Done\n",
            "Reading state information... Done\n",
            "locales is already the newest version (2.35-0ubuntu3.9).\n",
            "0 upgraded, 0 newly installed, 0 to remove and 34 not upgraded.\n",
            "Generating locales (this might take a while)...\n",
            "  id_ID.UTF-8... done\n",
            "Generation complete.\n",
            "Gagal mengatur locale ke 'id_ID.UTF-8'\n",
            "Locale diatur ke 'en_US.UTF-8'\n"
          ]
        }
      ]
    },
    {
      "cell_type": "code",
      "source": [
        "import locale\n",
        "\n",
        "try:\n",
        "  locale.setlocale(locale.LC_ALL, 'id_ID.UTF-8')\n",
        "except locale.Error:\n",
        "  print(\"Gagal mengatur locale ke 'id_ID.UTF-8'\")\n",
        "def format_rupiah(angka):\n",
        "  return locale.currency(angka, grouping=True, symbol=\"Rp\")\n",
        "\n",
        "class pegawai:\n",
        "  def __init__(self, nama, gaji_pokok, id_pegawai):\n",
        "    self.nama = nama\n",
        "    self.gaji_pokok = gaji_pokok # Fixed: Changed self.gaji to self.gaji_pokok\n",
        "    self.id_pegawai = id_pegawai # Fixed: Assigned id_pegawai to self.id_pegawai\n",
        "\n",
        "  def tampilkan_info(self):\n",
        "    print(f\"ID: {self.id_pegawai} nama: {self.nama}\") # Fixed: Added a space after the ID\n",
        "    print(f\"gaji pokok: {format_rupiah(self.gaji_pokok)}\") # Fixed: Changed self.gaji to self.gaji_pokok\n",
        "\n",
        "  def hitung_gaji(self): # Added: Method to calculate total salary for base pegawai class\n",
        "    return self.gaji_pokok\n",
        "\n",
        "class manager (pegawai):\n",
        "  def __init__(self, nama, gaji_pokok, tunjangan_jabatan, id_pegawai):\n",
        "    super().__init__(nama, gaji_pokok, id_pegawai)\n",
        "    self.tunjangan_jabatan = tunjangan_jabatan\n",
        "\n",
        "  def hitung_gaji(self):\n",
        "    gaji_total = super().hitung_gaji() + self.tunjangan_jabatan\n",
        "    return gaji_total\n",
        "\n",
        "  def tampilkan_info(self):\n",
        "    super().tampilkan_info()\n",
        "    print(f\"----- info manager-----\")\n",
        "    print(f\"tunjangan jabatan: {format_rupiah(self.tunjangan_jabatan)}\")\n",
        "    print(f\"gaji total: {format_rupiah(self.hitung_gaji())}\")\n",
        "\n",
        "\n",
        "class stafteknis (pegawai):\n",
        "  def __init__(self, nama, gaji_pokok, id_pegawai, keahlian, bonus_keahlian):\n",
        "    super().__init__(nama, gaji_pokok, id_pegawai)\n",
        "    self.keahlian = keahlian # Fixed: Assigned keahlian to self.keahlian\n",
        "    self.bonus_keahlian = bonus_keahlian\n",
        "\n",
        "  def hitung_gaji(self):\n",
        "    gaji_total = super().hitung_gaji() + self.bonus_keahlian\n",
        "    return gaji_total\n",
        "\n",
        "  def tampilkan_info(self):\n",
        "    super().tampilkan_info()\n",
        "    print(f\"----- info staf teknis-----\")\n",
        "    print(f\"keahlian: {self.keahlian}\") # Fixed: Changed self.keahlian to self.keahlian\n",
        "    print(f\"bonus keahlian: {format_rupiah(self.bonus_keahlian)}\")\n",
        "    print(f\"gaji total: {format_rupiah(self.hitung_gaji())}\")\n",
        "\n",
        "\n",
        "if __name__ == \"__main__\":\n",
        "  manager1 = manager(\"Budi Santoso\", 1000000,500000, \"M001\")\n",
        "  staf = stafteknis(\"Citra Lestari\", 7000000, \"S001\", \"Python Programming\", 1500000) # Fixed: Reordered arguments\n",
        "  pegawai_baru = pegawai(\"Rian\", 5000000, \"P005\") # Fixed: Reordered arguments\n",
        "  manager1.tampilkan_info()\n",
        "  print(\"-\"*20)\n",
        "  staf.tampilkan_info()\n",
        "  print(\"-\"*20)\n",
        "  print(\"---info pegawai baru---\")\n",
        "  pegawai_baru.tampilkan_info()\n",
        "  print(f\"total gaji: {format_rupiah(pegawai_baru.hitung_gaji())}\") # Fixed: Call hitung_gaji method\n",
        "  print(\"-\"*20)\n",
        "  pegawai_baru = pegawai(\"rian\", 100000, \"p0005\") # Fixed: Reordered arguments\n",
        "  print(\"---info pegawai baru---\")\n",
        "  pegawai_baru.tampilkan_info()\n",
        "  print(f\"total gaji: {format_rupiah(pegawai_baru.hitung_gaji())}\") # Fixed: Call hitung_gaji method\n",
        "\n",
        "  print(\"menampilakn informasi pegawai\")\n",
        "  manager1.tampilkan_info()\n",
        "  print(\"-\"*20)\n",
        "  staf.tampilkan_info()\n",
        "  print(\"-\"*20)\n",
        "  pegawai_baru.tampilkan_info()\n",
        "\n",
        "\n",
        "def format_rupiah(angka):\n",
        "  return locale.currency(angka, grouping=True, symbol=\"Rp\")"
      ],
      "metadata": {
        "id": "gAzgmzshfnhF",
        "outputId": "44c4e39b-2c09-4613-99b3-cdd2d1f40164",
        "colab": {
          "base_uri": "https://localhost:8080/"
        }
      },
      "execution_count": 29,
      "outputs": [
        {
          "output_type": "stream",
          "name": "stdout",
          "text": [
            "Gagal mengatur locale ke 'id_ID.UTF-8'\n",
            "ID: M001 nama: Budi Santoso\n",
            "gaji pokok: $1,000,000.00\n",
            "----- info manager-----\n",
            "tunjangan jabatan: $500,000.00\n",
            "gaji total: $1,500,000.00\n",
            "--------------------\n",
            "ID: S001 nama: Citra Lestari\n",
            "gaji pokok: $7,000,000.00\n",
            "----- info staf teknis-----\n",
            "keahlian: Python Programming\n",
            "bonus keahlian: $1,500,000.00\n",
            "gaji total: $8,500,000.00\n",
            "--------------------\n",
            "---info pegawai baru---\n",
            "ID: P005 nama: Rian\n",
            "gaji pokok: $5,000,000.00\n",
            "total gaji: $5,000,000.00\n",
            "--------------------\n",
            "---info pegawai baru---\n",
            "ID: p0005 nama: rian\n",
            "gaji pokok: $100,000.00\n",
            "total gaji: $100,000.00\n",
            "menampilakn informasi pegawai\n",
            "ID: M001 nama: Budi Santoso\n",
            "gaji pokok: $1,000,000.00\n",
            "----- info manager-----\n",
            "tunjangan jabatan: $500,000.00\n",
            "gaji total: $1,500,000.00\n",
            "--------------------\n",
            "ID: S001 nama: Citra Lestari\n",
            "gaji pokok: $7,000,000.00\n",
            "----- info staf teknis-----\n",
            "keahlian: Python Programming\n",
            "bonus keahlian: $1,500,000.00\n",
            "gaji total: $8,500,000.00\n",
            "--------------------\n",
            "ID: p0005 nama: rian\n",
            "gaji pokok: $100,000.00\n"
          ]
        }
      ]
    },
    {
      "cell_type": "code",
      "source": [
        "class BentukGeometri:\n",
        "  def __init__(self, nama_bentuk):\n",
        "    self.nama = nama_bentuk\n",
        "  def tampilkan_nama(self):\n",
        "    print(f\"Ini adalah bentuk: {self.nama}\")\n",
        "  def hitung_luas(self):\n",
        "    print(f\" Luas {self.nama} tidak dapat dihitung (generik)\")\n",
        "\n",
        "class PersegiPanjang(BentukGeometri):\n",
        "  def __init__(self, panjang, lebar):\n",
        "    super().__init__(\"Persegi Panjang\")\n",
        "    self.panjang = panjang\n",
        "    self.lebar = lebar\n",
        "  def hitung_luas(self):\n",
        "    luas = self.panjang * self.lebar\n",
        "    print(f\"Luas {self.nama}: {luas}\")\n",
        "\n",
        "class Segitiga(BentukGeometri):\n",
        "  def __init__(self, alas, tinggi):\n",
        "    super().__init__(\"Segitiga\")\n",
        "    self.alas = alas\n",
        "    self.tinggi = tinggi\n",
        "  def hitung_luas(self):\n",
        "    luas = 0.5 * self.alas * self.tinggi\n",
        "    print(f\"Luas {self.nama}: {luas}\")\n",
        "\n",
        "def proses_bentuk(bentuk):\n",
        "    print(f\"\\nMemproses objek: {type (bentuk)}\")\n",
        "\n",
        "    if isinstance(bentuk, BentukGeometri):\n",
        "      bentuk.tampilkan_nama()\n",
        "      print(\"-> Objek ini adalah instance dari BentukGeometri (atau turunannya).\")\n",
        "    if isinstance(bentuk, PersegiPanjang):\n",
        "      print(\"-> Objek ini adalah instance dari PersegiPanjang\")\n",
        "    elif isinstance(bentuk, Segitiga):\n",
        "      print(\"-> Objek ini adalah instance dari Segitiga\")\n",
        "    else:\n",
        "      print(\"-> Objek ini BUKAN instance dari BentukGeometri.\")\n",
        "    if isinstance(bentuk, str):\n",
        "      print(\"Objek ini adalah string\")\n",
        "\n",
        "# Kode Utama\n",
        "if __name__ == \"__main__\":\n",
        "  pp = PersegiPanjang(4,3)\n",
        "  seg = Segitiga(5, 2)\n",
        "  bg = BentukGeometri(\"Lingkaran\")\n",
        "  teks = \"ini string\"\n",
        "\n",
        "  daftar_objek = [pp, seg, bg, teks]\n",
        "\n",
        "  for objek in daftar_objek:\n",
        "    proses_bentuk(objek)"
      ],
      "metadata": {
        "id": "OIoN3Flwr8T1",
        "outputId": "bbc11d17-0ca7-46a9-ae47-fdcb22e3b6bf",
        "colab": {
          "base_uri": "https://localhost:8080/"
        }
      },
      "execution_count": 36,
      "outputs": [
        {
          "output_type": "stream",
          "name": "stdout",
          "text": [
            "\n",
            "Memproses objek: <class '__main__.PersegiPanjang'>\n",
            "Ini adalah bentuk: Persegi Panjang\n",
            "-> Objek ini adalah instance dari BentukGeometri (atau turunannya).\n",
            "-> Objek ini adalah instance dari PersegiPanjang\n",
            "\n",
            "Memproses objek: <class '__main__.Segitiga'>\n",
            "Ini adalah bentuk: Segitiga\n",
            "-> Objek ini adalah instance dari BentukGeometri (atau turunannya).\n",
            "-> Objek ini adalah instance dari Segitiga\n",
            "\n",
            "Memproses objek: <class '__main__.BentukGeometri'>\n",
            "Ini adalah bentuk: Lingkaran\n",
            "-> Objek ini adalah instance dari BentukGeometri (atau turunannya).\n",
            "-> Objek ini BUKAN instance dari BentukGeometri.\n",
            "\n",
            "Memproses objek: <class 'str'>\n",
            "-> Objek ini BUKAN instance dari BentukGeometri.\n",
            "Objek ini adalah string\n"
          ]
        }
      ]
    },
    {
      "cell_type": "code",
      "source": [],
      "metadata": {
        "id": "w4gZ60Ees_9e"
      },
      "execution_count": null,
      "outputs": []
    }
  ]
}