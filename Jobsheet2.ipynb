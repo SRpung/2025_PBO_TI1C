{
  "nbformat": 4,
  "nbformat_minor": 0,
  "metadata": {
    "colab": {
      "provenance": [],
      "authorship_tag": "ABX9TyPYcmXnueyLIE+lpWaa6A+a",
      "include_colab_link": true
    },
    "kernelspec": {
      "name": "python3",
      "display_name": "Python 3"
    },
    "language_info": {
      "name": "python"
    }
  },
  "cells": [
    {
      "cell_type": "markdown",
      "metadata": {
        "id": "view-in-github",
        "colab_type": "text"
      },
      "source": [
        "<a href=\"https://colab.research.google.com/github/SRpung/2025_PBO_TI1C/blob/main/Jobsheet2.ipynb\" target=\"_parent\"><img src=\"https://colab.research.google.com/assets/colab-badge.svg\" alt=\"Open In Colab\"/></a>"
      ]
    },
    {
      "cell_type": "markdown",
      "source": [
        "## Praktikum 1\n"
      ],
      "metadata": {
        "id": "o8tEnGRgNaVu"
      }
    },
    {
      "cell_type": "code",
      "execution_count": 2,
      "metadata": {
        "colab": {
          "base_uri": "https://localhost:8080/"
        },
        "id": "PxvqMFnWHXEB",
        "outputId": "aba1e9b1-485f-42c0-8fdd-398ac47f9be4"
      },
      "outputs": [
        {
          "output_type": "stream",
          "name": "stdout",
          "text": [
            "Ini adalah contoh fungsi built-in\n",
            "Panjang kata 'Pemrograman' adalah: 11\n",
            "Nilai maksimum dalam daftar [10, 5, 30, 40, 25] adalah: 40\n",
            "Kuadrat dari 5 adalah: 25\n",
            "Luas persegi panjang: 50\n",
            "Nama: Budi, Umur: 22, IPK: 3.8\n",
            "Halo, Andi! Selamat datang di dunia Python.\n",
            "Keliling persegi dengan sisi 5 adalah: 20\n"
          ]
        }
      ],
      "source": [
        "print(\"Ini adalah contoh fungsi built-in\")\n",
        "\n",
        "kata = \"Pemrograman\"\n",
        "print(f\"Panjang kata '{kata}' adalah: {len(kata)}\")\n",
        "\n",
        "angka = [10, 5, 30, 40, 25]\n",
        "print(f\"Nilai maksimum dalam daftar {angka} adalah: {max(angka)}\")\n",
        "\n",
        "def cetak_kuadrat(angka):\n",
        "    print(f\"Kuadrat dari {angka} adalah: {angka ** 2}\")\n",
        "\n",
        "def hitung_luas_persegi_panjang(panjang, lebar):\n",
        "    return panjang * lebar\n",
        "\n",
        "def info_mahasiswa(nama, umur, ipk):\n",
        "    print(f\"Nama: {nama}, Umur: {umur}, IPK: {ipk}\")\n",
        "\n",
        "def sapa_pengguna(nama):\n",
        "    print(f\"Halo, {nama}! Selamat datang di dunia Python.\")\n",
        "\n",
        "def hitung_keliling_persegi(sisi):\n",
        "    return 4 * sisi\n",
        "\n",
        "cetak_kuadrat(5)\n",
        "print(f\"Luas persegi panjang: {hitung_luas_persegi_panjang(10, 5)}\")\n",
        "info_mahasiswa(\"Budi\", 22, 3.8)\n",
        "sapa_pengguna(\"Andi\")\n",
        "print(f\"Keliling persegi dengan sisi 5 adalah: {hitung_keliling_persegi(5)}\")\n"
      ]
    },
    {
      "cell_type": "markdown",
      "source": [
        "# Praktikum 2"
      ],
      "metadata": {
        "id": "pfU8tGykPD9N"
      }
    },
    {
      "cell_type": "code",
      "source": [
        "import geometry\n",
        "def main():\n",
        "  luas_persegi = geometry.hitung_luas_persegi(5)\n",
        "  print(f\"Luas persegi dengan sisi 5 adalah: {luas_persegi}\")\n",
        "  luas_persegi_panjang = geometry.hitung_luas_persegi_panjang(10, 5)\n",
        "  print(f\"Luas persegi panjang dengan panjang 10 dan lebar 5 adalah: {luas_persegi_panjang}\")\n",
        "\n",
        "  luas_lingkaran = geometry.hitung_luas_lingkaran(7)\n",
        "  print(f\"Luas lingkaran dengan jari-jari 7 adalah: {luas_lingkaran}\")\n",
        "if __name__ == \"__main__\":\n",
        "  main()"
      ],
      "metadata": {
        "colab": {
          "base_uri": "https://localhost:8080/"
        },
        "id": "hwdltQfaNQQs",
        "outputId": "b71ba21c-150a-4093-d61c-e6595ddd6404"
      },
      "execution_count": 18,
      "outputs": [
        {
          "output_type": "stream",
          "name": "stdout",
          "text": [
            "Luas persegi dengan sisi 5 adalah: 25\n",
            "Luas persegi panjang dengan panjang 10 dan lebar 5 adalah: 50\n",
            "Luas lingkaran dengan jari-jari 7 adalah: 153.86\n"
          ]
        }
      ]
    },
    {
      "cell_type": "markdown",
      "source": [
        "# Praktikum 3"
      ],
      "metadata": {
        "id": "b2h6mb4PXFVK"
      }
    },
    {
      "cell_type": "code",
      "source": [
        "class Buku:\n",
        "    def __init__(self, judul, pengarang, tahun_terbit):\n",
        "        self.judul = judul\n",
        "        self.pengarang = pengarang\n",
        "        self.tahun_terbit = tahun_terbit\n",
        "        self.status = \"Tersedia\"\n",
        "\n",
        "    def tampilkan_info(self):\n",
        "        print(f\"Judul: {self.judul}\")\n",
        "        print(f\"Pengarang: {self.pengarang}\")\n",
        "        print(f\"Tahun Terbit: {self.tahun_terbit}\")\n",
        "        print(f\"Status: {self.status}\")\n",
        "\n",
        "    def pinjam(self):\n",
        "        if self.status == \"Tersedia\":\n",
        "            self.status = \"Dipinjam\"\n",
        "            print(f\"Buku '{self.judul}' telah dipinjam.\")\n",
        "        else:\n",
        "            print(f\"Buku '{self.judul}' sedang dipinjam.\")\n",
        "\n",
        "    def kembalikan(self):\n",
        "        if self.status == \"Dipinjam\":\n",
        "            self.status = \"Tersedia\"\n",
        "            print(f\"Buku '{self.judul}' telah dikembalikan.\")\n",
        "        else:\n",
        "            print(f\"Buku '{self.judul}' tidak sedang dipinjam.\")\n",
        "\n",
        "buku1 = Buku(\"Pemrograman Python\", \"John Doe\", 2021)\n",
        "buku2 = Buku(\"Data Science untuk Pemula\", \"Jane Smith\", 2020)\n",
        "\n",
        "buku1.tampilkan_info()\n",
        "buku2.pinjam()\n",
        "buku2.kembalikan()\n",
        "buku1.pinjam()\n",
        "buku1.tampilkan_info()\n",
        "\n",
        "class Mahasiswa:\n",
        "    def __init__(self, nama, nim, umur):\n",
        "        self.nama = nama\n",
        "        self.nim = nim\n",
        "        self.umur = umur\n",
        "\n",
        "    def tampilkan_info(self):\n",
        "        print(f\"Nama: {self.nama}\")\n",
        "        print(f\"NIM: {self.nim}\")\n",
        "        print(f\"Umur: {self.umur} tahun\")\n",
        "\n",
        "    def ubah_umur(self, umur_baru):\n",
        "        self.umur = umur_baru\n",
        "\n",
        "mahasiswa1 = Mahasiswa(\"Andi\", \"12345\", 20)\n",
        "mahasiswa2 = Mahasiswa(\"Budi\", \"67890\", 22)\n",
        "\n",
        "mahasiswa1.tampilkan_info()\n",
        "mahasiswa2.tampilkan_info()\n",
        "\n",
        "mahasiswa1.ubah_umur(21)\n",
        "print(\"\\nSetelah mengubah umur mahasiswa1:\")\n",
        "mahasiswa1.tampilkan_info()\n"
      ],
      "metadata": {
        "colab": {
          "base_uri": "https://localhost:8080/"
        },
        "id": "VaPMLA0vPpkm",
        "outputId": "7de537b0-60b6-4c38-a730-83aaf070d748"
      },
      "execution_count": 19,
      "outputs": [
        {
          "output_type": "stream",
          "name": "stdout",
          "text": [
            "Judul: Pemrograman Python\n",
            "Pengarang: John Doe\n",
            "Tahun Terbit: 2021\n",
            "Status: Tersedia\n",
            "Buku 'Data Science untuk Pemula' telah dipinjam.\n",
            "Buku 'Data Science untuk Pemula' telah dikembalikan.\n",
            "Buku 'Pemrograman Python' telah dipinjam.\n",
            "Judul: Pemrograman Python\n",
            "Pengarang: John Doe\n",
            "Tahun Terbit: 2021\n",
            "Status: Dipinjam\n",
            "Nama: Andi\n",
            "NIM: 12345\n",
            "Umur: 20 tahun\n",
            "Nama: Budi\n",
            "NIM: 67890\n",
            "Umur: 22 tahun\n",
            "\n",
            "Setelah mengubah umur mahasiswa1:\n",
            "Nama: Andi\n",
            "NIM: 12345\n",
            "Umur: 21 tahun\n"
          ]
        }
      ]
    },
    {
      "cell_type": "markdown",
      "source": [
        "# Praktikum 4"
      ],
      "metadata": {
        "id": "zil4wKliZCWQ"
      }
    },
    {
      "cell_type": "code",
      "source": [
        "class Mobil:\n",
        "    def __init__(self, merk, warna, tahun, harga):\n",
        "        self.merk = merk\n",
        "        self.warna = warna\n",
        "        self.tahun = tahun\n",
        "        self.harga = harga\n",
        "\n",
        "    def tampilkan_info(self):\n",
        "        print(f\"Mobil {self.merk} berwarna {self.warna}, tahun {self.tahun}, harga: Rp {self.harga}\")\n",
        "\n",
        "    def diskon(self, persen_diskon):\n",
        "        diskon_harga = self.harga * (persen_diskon / 100)\n",
        "        harga_setelah_diskon = self.harga - diskon_harga\n",
        "        print(f\"Harga setelah diskon {persen_diskon}%: Rp {harga_setelah_diskon}\")\n",
        "\n",
        "    def hitung_usia(self, tahun_sekarang):\n",
        "        return tahun_sekarang - self.tahun\n",
        "\n",
        "    def perbarui_harga(self, harga_baru, tahun_baru):\n",
        "        self.harga = harga_baru\n",
        "        self.tahun = tahun_baru\n",
        "        print(f\"Harga dan tahun mobil {self.merk} diperbarui menjadi Rp {self.harga} dan tahun {self.tahun}\")\n",
        "\n",
        "mobil1 = Mobil(\"Toyota\", \"Hitam\", 2015, 300000000)\n",
        "mobil2 = Mobil(\"Honda\", \"Merah\", 2018, 250000000)\n",
        "\n",
        "mobil1.tampilkan_info()\n",
        "mobil2.tampilkan_info()\n",
        "\n",
        "mobil1.diskon(10)\n",
        "mobil2.diskon(15)\n",
        "\n",
        "print(f\"Usia mobil1 pada tahun 2025: {mobil1.hitung_usia(2025)} tahun\")\n",
        "print(f\"Usia mobil2 pada tahun 2025: {mobil2.hitung_usia(2025)} tahun\")\n",
        "\n",
        "mobil1.perbarui_harga(280000000, 2022)\n",
        "mobil2.perbarui_harga(240000000, 2021)\n"
      ],
      "metadata": {
        "colab": {
          "base_uri": "https://localhost:8080/"
        },
        "id": "W1IDPCYNXHpV",
        "outputId": "a92bd844-4e1e-4c29-f9fa-a2c376335bf4"
      },
      "execution_count": 20,
      "outputs": [
        {
          "output_type": "stream",
          "name": "stdout",
          "text": [
            "Mobil Toyota berwarna Hitam, tahun 2015, harga: Rp 300000000\n",
            "Mobil Honda berwarna Merah, tahun 2018, harga: Rp 250000000\n",
            "Harga setelah diskon 10%: Rp 270000000.0\n",
            "Harga setelah diskon 15%: Rp 212500000.0\n",
            "Usia mobil1 pada tahun 2025: 10 tahun\n",
            "Usia mobil2 pada tahun 2025: 7 tahun\n",
            "Harga dan tahun mobil Toyota diperbarui menjadi Rp 280000000 dan tahun 2022\n",
            "Harga dan tahun mobil Honda diperbarui menjadi Rp 240000000 dan tahun 2021\n"
          ]
        }
      ]
    },
    {
      "cell_type": "code",
      "source": [],
      "metadata": {
        "id": "0Bv8aWKtZF8W"
      },
      "execution_count": null,
      "outputs": []
    }
  ]
}