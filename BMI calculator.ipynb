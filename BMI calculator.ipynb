{
  "nbformat": 4,
  "nbformat_minor": 0,
  "metadata": {
    "colab": {
      "provenance": [],
      "authorship_tag": "ABX9TyNGGk6m4EYNNPTjXOzu5CS/",
      "include_colab_link": true
    },
    "kernelspec": {
      "name": "python3",
      "display_name": "Python 3"
    },
    "language_info": {
      "name": "python"
    }
  },
  "cells": [
    {
      "cell_type": "markdown",
      "metadata": {
        "id": "view-in-github",
        "colab_type": "text"
      },
      "source": [
        "<a href=\"https://colab.research.google.com/github/SRpung/2025_PBO_TI1C/blob/main/BMI%20calculator.ipynb\" target=\"_parent\"><img src=\"https://colab.research.google.com/assets/colab-badge.svg\" alt=\"Open In Colab\"/></a>"
      ]
    },
    {
      "cell_type": "code",
      "execution_count": 1,
      "metadata": {
        "colab": {
          "base_uri": "https://localhost:8080/"
        },
        "id": "NVDoSgxP031S",
        "outputId": "ca9d0e8a-e830-4a1e-d174-8d37b3e328a9"
      },
      "outputs": [
        {
          "output_type": "stream",
          "name": "stdout",
          "text": [
            "===== Program Body Mass Index =====\n",
            "Silahkan Masukkan Berat Badan Anda (dalam kg): 59\n",
            "Silahkan Masukkan tinggi Badan Anda (dalam meter(m)): 170\n",
            "\n",
            "Body Mass Index Anda : 0.002041522491349481\n",
            "Berat Badan Anda Kurang (Underweight)\n",
            "Apakah Anda Mau Keluar ? Y/N : y\n",
            "==== Terimakasih =====\n"
          ]
        }
      ],
      "source": [
        "import os\n",
        "\n",
        "\n",
        "while True:\n",
        "    os.system(\"cls\")\n",
        "    print(\"===== Program Body Mass Index =====\")\n",
        "\n",
        "    while True:\n",
        "        try:\n",
        "            berat = float(input(\"Silahkan Masukkan Berat Badan Anda (dalam kg): \"))\n",
        "            tinggi = float(input(\"Silahkan Masukkan tinggi Badan Anda (dalam meter(m)): \"))\n",
        "            break\n",
        "        except:\n",
        "            print(\"Input Tidak Valid,Silahkan Masukkan Input Berupa Angka!!!\")\n",
        "\n",
        "    mbi = berat/tinggi**2\n",
        "    print(f\"\\nBody Mass Index Anda : {mbi}\")\n",
        "    if mbi < 18.5:\n",
        "        print(\"Berat Badan Anda Kurang (Underweight)\")\n",
        "    elif mbi >= 18.5 and mbi < 25:\n",
        "        print(\"Berat Badan Anda Normal\")\n",
        "    elif mbi >= 25 and mbi < 30:\n",
        "        print(\"Berat Badan Anda Berlebih (Overweight)\")\n",
        "    else:\n",
        "        print(\"Anda Obesitas\")\n",
        "    keluar = input(\"Apakah Anda Mau Keluar ? Y/N : \")\n",
        "    if keluar == \"Y\" or keluar == \"y\":\n",
        "        break\n",
        "print(\"==== Terimakasih =====\")"
      ]
    }
  ]
}