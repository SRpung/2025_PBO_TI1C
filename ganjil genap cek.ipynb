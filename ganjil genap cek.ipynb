{
  "nbformat": 4,
  "nbformat_minor": 0,
  "metadata": {
    "colab": {
      "provenance": [],
      "authorship_tag": "ABX9TyPn/JcdRaekoyKhbVlgxwFC",
      "include_colab_link": true
    },
    "kernelspec": {
      "name": "python3",
      "display_name": "Python 3"
    },
    "language_info": {
      "name": "python"
    }
  },
  "cells": [
    {
      "cell_type": "markdown",
      "metadata": {
        "id": "view-in-github",
        "colab_type": "text"
      },
      "source": [
        "<a href=\"https://colab.research.google.com/github/SRpung/2025_PBO_TI1C/blob/main/ganjil%20genap%20cek.ipynb\" target=\"_parent\"><img src=\"https://colab.research.google.com/assets/colab-badge.svg\" alt=\"Open In Colab\"/></a>"
      ]
    },
    {
      "cell_type": "code",
      "execution_count": 2,
      "metadata": {
        "colab": {
          "base_uri": "https://localhost:8080/"
        },
        "id": "PqNbUghL6Qfm",
        "outputId": "67512873-f91a-4e30-f79e-3c11edb43e43"
      },
      "outputs": [
        {
          "output_type": "stream",
          "name": "stdout",
          "text": [
            "===== Program Bilangan =====\n",
            "Silahkan Masukkan Bilangan Bulat Yang Ingin Diperiksa : 3\n",
            "\n",
            "Angka 3 adalah bilangan Ganjil\n",
            "Angka 3 adalah bilangan Prima\n",
            "Apakah Anda Ingin Keluar (Y/N) : n\n",
            "===== Program Bilangan =====\n",
            "Silahkan Masukkan Bilangan Bulat Yang Ingin Diperiksa : 90\n",
            "\n",
            "Angka 90 adalah bilangan Genap\n",
            "Angka 90 BUKAN bilangan Prima\n",
            "Apakah Anda Ingin Keluar (Y/N) : n\n",
            "===== Program Bilangan =====\n",
            "Silahkan Masukkan Bilangan Bulat Yang Ingin Diperiksa : 71\n",
            "\n",
            "Angka 71 adalah bilangan Ganjil\n",
            "Angka 71 adalah bilangan Prima\n",
            "Apakah Anda Ingin Keluar (Y/N) : y\n",
            "===== Terimakasih =====\n"
          ]
        }
      ],
      "source": [
        "import os\n",
        "\n",
        "def isPrime(angka):\n",
        "    if angka <= 1:\n",
        "        return False\n",
        "    for i in range(2, int(angka**0.5) + 1):  # Cek dari 2 sampai akar kuadrat dari angka\n",
        "        if angka % i == 0:\n",
        "            return False\n",
        "    return True\n",
        "\n",
        "while True:\n",
        "    os.system(\"cls\")\n",
        "    print(\"===== Program Bilangan =====\")\n",
        "    while True:\n",
        "        try:\n",
        "            angka = int(input(\"Silahkan Masukkan Bilangan Bulat Yang Ingin Diperiksa : \"))\n",
        "            break\n",
        "        except:\n",
        "            print(\"Input Tidak Valid, Silahkan Masukkan Bilangan Bulat\")\n",
        "\n",
        "\n",
        "    # Memeriksa ganjil genap\n",
        "    if angka % 2 == 0 :\n",
        "        print(f\"\\nAngka {angka} adalah bilangan Genap\")\n",
        "    else :\n",
        "        print(f\"\\nAngka {angka} adalah bilangan Ganjil\")\n",
        "\n",
        "    # Memeriksa Bilangan Prima\n",
        "    if isPrime(angka):\n",
        "        print(f\"Angka {angka} adalah bilangan Prima\")\n",
        "    else:\n",
        "        print(f\"Angka {angka} BUKAN bilangan Prima\")\n",
        "\n",
        "    keluar = input(\"Apakah Anda Ingin Keluar (Y/N) : \")\n",
        "    if keluar == \"Y\" or keluar == \"y\":\n",
        "        break\n",
        "print(\"===== Terimakasih =====\")"
      ]
    }
  ]
}